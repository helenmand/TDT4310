{
 "cells": [
  {
   "cell_type": "code",
   "execution_count": 12,
   "metadata": {},
   "outputs": [],
   "source": [
    "import pandas as pd\n",
    "datapath = \"../data/amazon_reviews/amazon_appliances_reviews.csv\"\n",
    "df = pd.read_csv(datapath)\n",
    "texts = df['review_body'].tolist()"
   ]
  },
  {
   "cell_type": "code",
   "execution_count": 13,
   "metadata": {},
   "outputs": [],
   "source": [
    "import re\n",
    "from nltk.corpus import stopwords\n",
    "stop_words = stopwords.words('english')\n",
    "\n",
    "def some_cleaning(text):\n",
    "    if not isinstance(text, str):\n",
    "        return \"\"\n",
    "    text = re.sub(r'[^\\w\\s]','',text)\n",
    "    text = re.sub(r'\\d+','',text)\n",
    "    text = [word.lower() for word in text.split() if word.lower() not in stop_words]\n",
    "    text = [word for word in text if len(word) > 3]\n",
    "    return text\n",
    "\n",
    "texts = [some_cleaning(text) for text in texts]"
   ]
  },
  {
   "cell_type": "code",
   "execution_count": 14,
   "metadata": {},
   "outputs": [],
   "source": [
    "# ensure that we have no empty strings, and we also want to filter out very short texts\n",
    "texts = [text for text in texts if len(text) > 3]"
   ]
  },
  {
   "cell_type": "code",
   "execution_count": 17,
   "metadata": {},
   "outputs": [],
   "source": [
    "from gensim.corpora.dictionary import Dictionary\n",
    "\n",
    "gensim_dict = Dictionary(texts)\n",
    "corpus = [gensim_dict.doc2bow(text) for text in texts]"
   ]
  },
  {
   "cell_type": "code",
   "execution_count": 19,
   "metadata": {},
   "outputs": [],
   "source": [
    "# create an LSI model\n",
    "from gensim.models import LsiModel\n",
    "N_TOPICS = 3\n",
    "lsi = LsiModel(corpus=corpus, num_topics=N_TOPICS, id2word=gensim_dict)"
   ]
  },
  {
   "cell_type": "code",
   "execution_count": 20,
   "metadata": {},
   "outputs": [
    {
     "name": "stdout",
     "output_type": "stream",
     "text": [
      "['water', 'machine', 'washer', 'would', 'like', 'clothes', 'time', 'unit', 'cycle', 'dont']\n",
      "__\n",
      "['washer', 'water', 'machine', 'clothes', 'fridge', 'unit', 'cycle', 'oven', 'door', 'wash']\n",
      "__\n",
      "['water', 'fridge', 'machine', 'dryer', 'freezer', 'service', 'door', 'level', 'warranty', 'oven']\n",
      "__\n"
     ]
    }
   ],
   "source": [
    "for topic in lsi.show_topics(num_topics=3, num_words=10):\n",
    "    topic_id, topic_word_weights = topic\n",
    "    words = topic_word_weights.split(\"+\")\n",
    "    w = [word.strip().replace('\"', '').split(\"*\")[1] for word in words]\n",
    "    print(w)\n",
    "    print(\"__\")"
   ]
  },
  {
   "cell_type": "code",
   "execution_count": 21,
   "metadata": {},
   "outputs": [
    {
     "data": {
      "text/plain": [
       "[(0,\n",
       "  '0.310*\"water\" + 0.232*\"machine\" + 0.210*\"washer\" + 0.197*\"would\" + 0.164*\"like\" + 0.162*\"clothes\" + 0.158*\"time\" + 0.142*\"unit\" + 0.126*\"cycle\" + 0.121*\"dont\"'),\n",
       " (1,\n",
       "  '0.348*\"washer\" + 0.319*\"water\" + 0.315*\"machine\" + 0.298*\"clothes\" + -0.260*\"fridge\" + -0.223*\"unit\" + 0.159*\"cycle\" + -0.145*\"oven\" + -0.145*\"door\" + 0.144*\"wash\"'),\n",
       " (2,\n",
       "  '-0.540*\"water\" + -0.397*\"fridge\" + 0.367*\"machine\" + 0.210*\"dryer\" + -0.138*\"freezer\" + 0.136*\"service\" + -0.116*\"door\" + -0.114*\"level\" + 0.104*\"warranty\" + 0.101*\"oven\"')]"
      ]
     },
     "execution_count": 21,
     "metadata": {},
     "output_type": "execute_result"
    }
   ],
   "source": [
    "lsi.show_topics(num_topics=10, num_words=10)"
   ]
  },
  {
   "cell_type": "code",
   "execution_count": 22,
   "metadata": {},
   "outputs": [
    {
     "name": "stdout",
     "output_type": "stream",
     "text": [
      "['machine', 'water', 'washer', 'dishwasher', 'clothes', 'dryer', 'cycle', 'clean', 'wash', 'dishes']\n",
      "['great', 'fridge', 'unit', 'good', 'well', 'like', 'would', 'wine', 'works', 'price']\n",
      "['would', 'service', 'unit', 'years', 'oven', 'product', 'months', 'warranty', 'back', 'problem']\n"
     ]
    }
   ],
   "source": [
    "from gensim.models import LdaModel\n",
    "\n",
    "lda = LdaModel(corpus=corpus,num_topics=N_TOPICS)\n",
    "for topic in lda.show_topics(num_topics=N_TOPICS, num_words=10, formatted=False):\n",
    "    word_ids = [word for word, _ in topic[1]]\n",
    "    words = [gensim_dict[int(word_id)] for word_id in word_ids]\n",
    "    print(words)"
   ]
  },
  {
   "cell_type": "code",
   "execution_count": 23,
   "metadata": {},
   "outputs": [
    {
     "name": "stdout",
     "output_type": "stream",
     "text": [
      "Predicted topic 0 with probability 0.879182755947113\n",
      "['machine', 'water', 'washer', 'dishwasher', 'clothes', 'dryer', 'cycle', 'clean', 'wash', 'dishes']\n"
     ]
    }
   ],
   "source": [
    "some_other_text = \"10/10 I absolutely love this thing! It dries my clothes in 2 microseconds!\"\n",
    "some_other_text = some_cleaning(some_other_text)\n",
    "bow = gensim_dict.doc2bow(some_other_text)\n",
    "topic_matches = lda.get_document_topics(bow)\n",
    "best_topic = max(topic_matches, key=lambda x: x[1])\n",
    "print(f\"Predicted topic {best_topic[0]} with probability {best_topic[1]}\")\n",
    "\n",
    "matching_words = [gensim_dict[int(word_id)] for word_id, _ in lda.show_topic(best_topic[0], topn=10)]\n",
    "print(matching_words)"
   ]
  },
  {
   "cell_type": "code",
   "execution_count": 29,
   "metadata": {},
   "outputs": [
    {
     "name": "stderr",
     "output_type": "stream",
     "text": [
      "/opt/anaconda3/lib/python3.9/site-packages/joblib/numpy_pickle.py:230: UserWarning: The memmapped array [[-14.13975186 -11.01262454 -11.20798578]\n",
      " [ -9.83386612  -8.84326557  -7.71929277]\n",
      " [ -6.78911005  -5.94715111  -6.76982636]\n",
      " ...\n",
      " [-15.09424225 -15.32287929 -13.54295227]\n",
      " [-13.95010499 -15.49622936 -15.27564127]\n",
      " [-13.95010499 -15.49622936 -15.27564127]] loaded from the file /var/folders/0k/1bg63zt532nb9d86g5tk_6vh0000gn/T/joblib_memmapping_folder_48029_e5abf40973da4239b675a85819315d72_f477b585555f4bac982e7659994f59b5/48029-11231565136-d55f75c39db54215ad6a78395d11f7ea.pkl is not not bytes aligned. This may cause segmentation faults if this memmapped array is used in some libraries like BLAS or PyTorch. To get rid of this warning, regenerate your pickle file with joblib >= 1.2.0. See https://github.com/joblib/joblib/issues/563 for more details\n",
      "  warnings.warn(message)\n",
      "/opt/anaconda3/lib/python3.9/site-packages/joblib/numpy_pickle.py:230: UserWarning: The memmapped array [[-14.13975186 -11.01262454 -11.20798578]\n",
      " [ -9.83386612  -8.84326557  -7.71929277]\n",
      " [ -6.78911005  -5.94715111  -6.76982636]\n",
      " ...\n",
      " [-15.09424225 -15.32287929 -13.54295227]\n",
      " [-13.95010499 -15.49622936 -15.27564127]\n",
      " [-13.95010499 -15.49622936 -15.27564127]] loaded from the file /var/folders/0k/1bg63zt532nb9d86g5tk_6vh0000gn/T/joblib_memmapping_folder_48029_e5abf40973da4239b675a85819315d72_f477b585555f4bac982e7659994f59b5/48029-11231565136-d55f75c39db54215ad6a78395d11f7ea.pkl is not not bytes aligned. This may cause segmentation faults if this memmapped array is used in some libraries like BLAS or PyTorch. To get rid of this warning, regenerate your pickle file with joblib >= 1.2.0. See https://github.com/joblib/joblib/issues/563 for more details\n",
      "  warnings.warn(message)\n",
      "/opt/anaconda3/lib/python3.9/site-packages/joblib/numpy_pickle.py:230: UserWarning: The memmapped array [[-2.56888761  0.55823971  0.36287847]\n",
      " [-1.30064836 -0.31004781  0.81392499]\n",
      " [-0.35029738  0.49166155 -0.3310137 ]\n",
      " ...\n",
      " [-0.70733721 -0.93597425  0.84395278]\n",
      " [ 0.62050305 -0.92562133 -0.70503324]\n",
      " [ 0.62050305 -0.92562133 -0.70503324]] loaded from the file /var/folders/0k/1bg63zt532nb9d86g5tk_6vh0000gn/T/joblib_memmapping_folder_48029_e5abf40973da4239b675a85819315d72_f477b585555f4bac982e7659994f59b5/48029-11231565136-b07451df37094a66b719b10b73628209.pkl is not not bytes aligned. This may cause segmentation faults if this memmapped array is used in some libraries like BLAS or PyTorch. To get rid of this warning, regenerate your pickle file with joblib >= 1.2.0. See https://github.com/joblib/joblib/issues/563 for more details\n",
      "  warnings.warn(message)\n",
      "/opt/anaconda3/lib/python3.9/site-packages/joblib/numpy_pickle.py:230: UserWarning: The memmapped array [[-2.56888761  0.55823971  0.36287847]\n",
      " [-1.30064836 -0.31004781  0.81392499]\n",
      " [-0.35029738  0.49166155 -0.3310137 ]\n",
      " ...\n",
      " [-0.70733721 -0.93597425  0.84395278]\n",
      " [ 0.62050305 -0.92562133 -0.70503324]\n",
      " [ 0.62050305 -0.92562133 -0.70503324]] loaded from the file /var/folders/0k/1bg63zt532nb9d86g5tk_6vh0000gn/T/joblib_memmapping_folder_48029_e5abf40973da4239b675a85819315d72_f477b585555f4bac982e7659994f59b5/48029-11231565136-b07451df37094a66b719b10b73628209.pkl is not not bytes aligned. This may cause segmentation faults if this memmapped array is used in some libraries like BLAS or PyTorch. To get rid of this warning, regenerate your pickle file with joblib >= 1.2.0. See https://github.com/joblib/joblib/issues/563 for more details\n",
      "  warnings.warn(message)\n",
      "/opt/anaconda3/lib/python3.9/site-packages/joblib/numpy_pickle.py:230: UserWarning: The memmapped array [[-14.13975186 -11.01262454 -11.20798578]\n",
      " [ -9.83386612  -8.84326557  -7.71929277]\n",
      " [ -6.78911005  -5.94715111  -6.76982636]\n",
      " ...\n",
      " [-15.09424225 -15.32287929 -13.54295227]\n",
      " [-13.95010499 -15.49622936 -15.27564127]\n",
      " [-13.95010499 -15.49622936 -15.27564127]] loaded from the file /var/folders/0k/1bg63zt532nb9d86g5tk_6vh0000gn/T/joblib_memmapping_folder_48029_e5abf40973da4239b675a85819315d72_f477b585555f4bac982e7659994f59b5/48029-11231565136-d55f75c39db54215ad6a78395d11f7ea.pkl is not not bytes aligned. This may cause segmentation faults if this memmapped array is used in some libraries like BLAS or PyTorch. To get rid of this warning, regenerate your pickle file with joblib >= 1.2.0. See https://github.com/joblib/joblib/issues/563 for more details\n",
      "  warnings.warn(message)\n",
      "/opt/anaconda3/lib/python3.9/site-packages/joblib/numpy_pickle.py:230: UserWarning: The memmapped array [[-2.56888761  0.55823971  0.36287847]\n",
      " [-1.30064836 -0.31004781  0.81392499]\n",
      " [-0.35029738  0.49166155 -0.3310137 ]\n",
      " ...\n",
      " [-0.70733721 -0.93597425  0.84395278]\n",
      " [ 0.62050305 -0.92562133 -0.70503324]\n",
      " [ 0.62050305 -0.92562133 -0.70503324]] loaded from the file /var/folders/0k/1bg63zt532nb9d86g5tk_6vh0000gn/T/joblib_memmapping_folder_48029_e5abf40973da4239b675a85819315d72_f477b585555f4bac982e7659994f59b5/48029-11231565136-b07451df37094a66b719b10b73628209.pkl is not not bytes aligned. This may cause segmentation faults if this memmapped array is used in some libraries like BLAS or PyTorch. To get rid of this warning, regenerate your pickle file with joblib >= 1.2.0. See https://github.com/joblib/joblib/issues/563 for more details\n",
      "  warnings.warn(message)\n",
      "/opt/anaconda3/lib/python3.9/site-packages/joblib/numpy_pickle.py:230: UserWarning: The memmapped array [[-14.13975186 -11.01262454 -11.20798578]\n",
      " [ -9.83386612  -8.84326557  -7.71929277]\n",
      " [ -6.78911005  -5.94715111  -6.76982636]\n",
      " ...\n",
      " [-15.09424225 -15.32287929 -13.54295227]\n",
      " [-13.95010499 -15.49622936 -15.27564127]\n",
      " [-13.95010499 -15.49622936 -15.27564127]] loaded from the file /var/folders/0k/1bg63zt532nb9d86g5tk_6vh0000gn/T/joblib_memmapping_folder_48029_e5abf40973da4239b675a85819315d72_f477b585555f4bac982e7659994f59b5/48029-11231565136-d55f75c39db54215ad6a78395d11f7ea.pkl is not not bytes aligned. This may cause segmentation faults if this memmapped array is used in some libraries like BLAS or PyTorch. To get rid of this warning, regenerate your pickle file with joblib >= 1.2.0. See https://github.com/joblib/joblib/issues/563 for more details\n",
      "  warnings.warn(message)\n",
      "/opt/anaconda3/lib/python3.9/site-packages/joblib/numpy_pickle.py:230: UserWarning: The memmapped array [[-2.56888761  0.55823971  0.36287847]\n",
      " [-1.30064836 -0.31004781  0.81392499]\n",
      " [-0.35029738  0.49166155 -0.3310137 ]\n",
      " ...\n",
      " [-0.70733721 -0.93597425  0.84395278]\n",
      " [ 0.62050305 -0.92562133 -0.70503324]\n",
      " [ 0.62050305 -0.92562133 -0.70503324]] loaded from the file /var/folders/0k/1bg63zt532nb9d86g5tk_6vh0000gn/T/joblib_memmapping_folder_48029_e5abf40973da4239b675a85819315d72_f477b585555f4bac982e7659994f59b5/48029-11231565136-b07451df37094a66b719b10b73628209.pkl is not not bytes aligned. This may cause segmentation faults if this memmapped array is used in some libraries like BLAS or PyTorch. To get rid of this warning, regenerate your pickle file with joblib >= 1.2.0. See https://github.com/joblib/joblib/issues/563 for more details\n",
      "  warnings.warn(message)\n",
      "/opt/anaconda3/lib/python3.9/site-packages/joblib/numpy_pickle.py:230: UserWarning: The memmapped array [[-14.13975186 -11.01262454 -11.20798578]\n",
      " [ -9.83386612  -8.84326557  -7.71929277]\n",
      " [ -6.78911005  -5.94715111  -6.76982636]\n",
      " ...\n",
      " [-15.09424225 -15.32287929 -13.54295227]\n",
      " [-13.95010499 -15.49622936 -15.27564127]\n",
      " [-13.95010499 -15.49622936 -15.27564127]] loaded from the file /var/folders/0k/1bg63zt532nb9d86g5tk_6vh0000gn/T/joblib_memmapping_folder_48029_e5abf40973da4239b675a85819315d72_f477b585555f4bac982e7659994f59b5/48029-11231565136-d55f75c39db54215ad6a78395d11f7ea.pkl is not not bytes aligned. This may cause segmentation faults if this memmapped array is used in some libraries like BLAS or PyTorch. To get rid of this warning, regenerate your pickle file with joblib >= 1.2.0. See https://github.com/joblib/joblib/issues/563 for more details\n",
      "  warnings.warn(message)\n",
      "/opt/anaconda3/lib/python3.9/site-packages/joblib/numpy_pickle.py:230: UserWarning: The memmapped array [[-14.13975186 -11.01262454 -11.20798578]\n",
      " [ -9.83386612  -8.84326557  -7.71929277]\n",
      " [ -6.78911005  -5.94715111  -6.76982636]\n",
      " ...\n",
      " [-15.09424225 -15.32287929 -13.54295227]\n",
      " [-13.95010499 -15.49622936 -15.27564127]\n",
      " [-13.95010499 -15.49622936 -15.27564127]] loaded from the file /var/folders/0k/1bg63zt532nb9d86g5tk_6vh0000gn/T/joblib_memmapping_folder_48029_e5abf40973da4239b675a85819315d72_f477b585555f4bac982e7659994f59b5/48029-11231565136-d55f75c39db54215ad6a78395d11f7ea.pkl is not not bytes aligned. This may cause segmentation faults if this memmapped array is used in some libraries like BLAS or PyTorch. To get rid of this warning, regenerate your pickle file with joblib >= 1.2.0. See https://github.com/joblib/joblib/issues/563 for more details\n",
      "  warnings.warn(message)\n",
      "/opt/anaconda3/lib/python3.9/site-packages/joblib/numpy_pickle.py:230: UserWarning: The memmapped array [[-2.56888761  0.55823971  0.36287847]\n",
      " [-1.30064836 -0.31004781  0.81392499]\n",
      " [-0.35029738  0.49166155 -0.3310137 ]\n",
      " ...\n",
      " [-0.70733721 -0.93597425  0.84395278]\n",
      " [ 0.62050305 -0.92562133 -0.70503324]\n",
      " [ 0.62050305 -0.92562133 -0.70503324]] loaded from the file /var/folders/0k/1bg63zt532nb9d86g5tk_6vh0000gn/T/joblib_memmapping_folder_48029_e5abf40973da4239b675a85819315d72_f477b585555f4bac982e7659994f59b5/48029-11231565136-b07451df37094a66b719b10b73628209.pkl is not not bytes aligned. This may cause segmentation faults if this memmapped array is used in some libraries like BLAS or PyTorch. To get rid of this warning, regenerate your pickle file with joblib >= 1.2.0. See https://github.com/joblib/joblib/issues/563 for more details\n",
      "  warnings.warn(message)\n",
      "/opt/anaconda3/lib/python3.9/site-packages/joblib/numpy_pickle.py:230: UserWarning: The memmapped array [[-2.56888761  0.55823971  0.36287847]\n",
      " [-1.30064836 -0.31004781  0.81392499]\n",
      " [-0.35029738  0.49166155 -0.3310137 ]\n",
      " ...\n",
      " [-0.70733721 -0.93597425  0.84395278]\n",
      " [ 0.62050305 -0.92562133 -0.70503324]\n",
      " [ 0.62050305 -0.92562133 -0.70503324]] loaded from the file /var/folders/0k/1bg63zt532nb9d86g5tk_6vh0000gn/T/joblib_memmapping_folder_48029_e5abf40973da4239b675a85819315d72_f477b585555f4bac982e7659994f59b5/48029-11231565136-b07451df37094a66b719b10b73628209.pkl is not not bytes aligned. This may cause segmentation faults if this memmapped array is used in some libraries like BLAS or PyTorch. To get rid of this warning, regenerate your pickle file with joblib >= 1.2.0. See https://github.com/joblib/joblib/issues/563 for more details\n",
      "  warnings.warn(message)\n",
      "/opt/anaconda3/lib/python3.9/site-packages/joblib/numpy_pickle.py:230: UserWarning: The memmapped array [[-14.13975186 -11.01262454 -11.20798578]\n",
      " [ -9.83386612  -8.84326557  -7.71929277]\n",
      " [ -6.78911005  -5.94715111  -6.76982636]\n",
      " ...\n",
      " [-15.09424225 -15.32287929 -13.54295227]\n",
      " [-13.95010499 -15.49622936 -15.27564127]\n",
      " [-13.95010499 -15.49622936 -15.27564127]] loaded from the file /var/folders/0k/1bg63zt532nb9d86g5tk_6vh0000gn/T/joblib_memmapping_folder_48029_e5abf40973da4239b675a85819315d72_f477b585555f4bac982e7659994f59b5/48029-11231565136-d55f75c39db54215ad6a78395d11f7ea.pkl is not not bytes aligned. This may cause segmentation faults if this memmapped array is used in some libraries like BLAS or PyTorch. To get rid of this warning, regenerate your pickle file with joblib >= 1.2.0. See https://github.com/joblib/joblib/issues/563 for more details\n",
      "  warnings.warn(message)\n",
      "/opt/anaconda3/lib/python3.9/site-packages/joblib/numpy_pickle.py:230: UserWarning: The memmapped array [[-2.56888761  0.55823971  0.36287847]\n",
      " [-1.30064836 -0.31004781  0.81392499]\n",
      " [-0.35029738  0.49166155 -0.3310137 ]\n",
      " ...\n",
      " [-0.70733721 -0.93597425  0.84395278]\n",
      " [ 0.62050305 -0.92562133 -0.70503324]\n",
      " [ 0.62050305 -0.92562133 -0.70503324]] loaded from the file /var/folders/0k/1bg63zt532nb9d86g5tk_6vh0000gn/T/joblib_memmapping_folder_48029_e5abf40973da4239b675a85819315d72_f477b585555f4bac982e7659994f59b5/48029-11231565136-b07451df37094a66b719b10b73628209.pkl is not not bytes aligned. This may cause segmentation faults if this memmapped array is used in some libraries like BLAS or PyTorch. To get rid of this warning, regenerate your pickle file with joblib >= 1.2.0. See https://github.com/joblib/joblib/issues/563 for more details\n",
      "  warnings.warn(message)\n",
      "/opt/anaconda3/lib/python3.9/site-packages/joblib/numpy_pickle.py:230: UserWarning: The memmapped array [[-14.13975186 -11.01262454 -11.20798578]\n",
      " [ -9.83386612  -8.84326557  -7.71929277]\n",
      " [ -6.78911005  -5.94715111  -6.76982636]\n",
      " ...\n",
      " [-15.09424225 -15.32287929 -13.54295227]\n",
      " [-13.95010499 -15.49622936 -15.27564127]\n",
      " [-13.95010499 -15.49622936 -15.27564127]] loaded from the file /var/folders/0k/1bg63zt532nb9d86g5tk_6vh0000gn/T/joblib_memmapping_folder_48029_e5abf40973da4239b675a85819315d72_f477b585555f4bac982e7659994f59b5/48029-11231565136-d55f75c39db54215ad6a78395d11f7ea.pkl is not not bytes aligned. This may cause segmentation faults if this memmapped array is used in some libraries like BLAS or PyTorch. To get rid of this warning, regenerate your pickle file with joblib >= 1.2.0. See https://github.com/joblib/joblib/issues/563 for more details\n",
      "  warnings.warn(message)\n",
      "/opt/anaconda3/lib/python3.9/site-packages/joblib/numpy_pickle.py:230: UserWarning: The memmapped array [[-2.56888761  0.55823971  0.36287847]\n",
      " [-1.30064836 -0.31004781  0.81392499]\n",
      " [-0.35029738  0.49166155 -0.3310137 ]\n",
      " ...\n",
      " [-0.70733721 -0.93597425  0.84395278]\n",
      " [ 0.62050305 -0.92562133 -0.70503324]\n",
      " [ 0.62050305 -0.92562133 -0.70503324]] loaded from the file /var/folders/0k/1bg63zt532nb9d86g5tk_6vh0000gn/T/joblib_memmapping_folder_48029_e5abf40973da4239b675a85819315d72_f477b585555f4bac982e7659994f59b5/48029-11231565136-b07451df37094a66b719b10b73628209.pkl is not not bytes aligned. This may cause segmentation faults if this memmapped array is used in some libraries like BLAS or PyTorch. To get rid of this warning, regenerate your pickle file with joblib >= 1.2.0. See https://github.com/joblib/joblib/issues/563 for more details\n",
      "  warnings.warn(message)\n",
      "/opt/anaconda3/lib/python3.9/site-packages/joblib/numpy_pickle.py:230: UserWarning: The memmapped array [[-14.13975186 -11.01262454 -11.20798578]\n",
      " [ -9.83386612  -8.84326557  -7.71929277]\n",
      " [ -6.78911005  -5.94715111  -6.76982636]\n",
      " ...\n",
      " [-15.09424225 -15.32287929 -13.54295227]\n",
      " [-13.95010499 -15.49622936 -15.27564127]\n",
      " [-13.95010499 -15.49622936 -15.27564127]] loaded from the file /var/folders/0k/1bg63zt532nb9d86g5tk_6vh0000gn/T/joblib_memmapping_folder_48029_e5abf40973da4239b675a85819315d72_f477b585555f4bac982e7659994f59b5/48029-11231565136-d55f75c39db54215ad6a78395d11f7ea.pkl is not not bytes aligned. This may cause segmentation faults if this memmapped array is used in some libraries like BLAS or PyTorch. To get rid of this warning, regenerate your pickle file with joblib >= 1.2.0. See https://github.com/joblib/joblib/issues/563 for more details\n",
      "  warnings.warn(message)\n",
      "/opt/anaconda3/lib/python3.9/site-packages/joblib/numpy_pickle.py:230: UserWarning: The memmapped array [[-2.56888761  0.55823971  0.36287847]\n",
      " [-1.30064836 -0.31004781  0.81392499]\n",
      " [-0.35029738  0.49166155 -0.3310137 ]\n",
      " ...\n",
      " [-0.70733721 -0.93597425  0.84395278]\n",
      " [ 0.62050305 -0.92562133 -0.70503324]\n",
      " [ 0.62050305 -0.92562133 -0.70503324]] loaded from the file /var/folders/0k/1bg63zt532nb9d86g5tk_6vh0000gn/T/joblib_memmapping_folder_48029_e5abf40973da4239b675a85819315d72_f477b585555f4bac982e7659994f59b5/48029-11231565136-b07451df37094a66b719b10b73628209.pkl is not not bytes aligned. This may cause segmentation faults if this memmapped array is used in some libraries like BLAS or PyTorch. To get rid of this warning, regenerate your pickle file with joblib >= 1.2.0. See https://github.com/joblib/joblib/issues/563 for more details\n",
      "  warnings.warn(message)\n"
     ]
    },
    {
     "data": {
      "text/html": [
       "\n",
       "<link rel=\"stylesheet\" type=\"text/css\" href=\"https://cdn.jsdelivr.net/gh/bmabey/pyLDAvis@3.4.0/pyLDAvis/js/ldavis.v1.0.0.css\">\n",
       "\n",
       "\n",
       "<div id=\"ldavis_el480296281451776938714654\" style=\"background-color:white;\"></div>\n",
       "<script type=\"text/javascript\">\n",
       "\n",
       "var ldavis_el480296281451776938714654_data = {\"mdsDat\": {\"x\": [-0.1478963567914269, 0.07083855608843379, 0.0770578007029931], \"y\": [0.0033245156091747064, -0.1202499104454246, 0.11692539483624985], \"topics\": [1, 2, 3], \"cluster\": [1, 1, 1], \"Freq\": [39.28515634724455, 31.324421940175355, 29.39042171258008]}, \"tinfo\": {\"Term\": [\"machine\", \"washer\", \"clothes\", \"dryer\", \"water\", \"fridge\", \"service\", \"dishwasher\", \"great\", \"cycle\", \"wash\", \"wine\", \"dishes\", \"load\", \"freezer\", \"oven\", \"clean\", \"warranty\", \"washing\", \"temperature\", \"laundry\", \"cooler\", \"repair\", \"price\", \"cold\", \"bottles\", \"customer\", \"range\", \"easy\", \"works\", \"burner\", \"cooktop\", \"convection\", \"burners\", \"oven\", \"induction\", \"electrolux\", \"ovens\", \"authorized\", \"boil\", \"fuse\", \"appointment\", \"viking\", \"flame\", \"griddle\", \"email\", \"rude\", \"cookware\", \"technician\", \"bulb\", \"thermador\", \"representative\", \"expired\", \"simmer\", \"contacted\", \"supervisor\", \"broiler\", \"customer\", \"serviced\", \"magnetron\", \"service\", \"warranty\", \"repair\", \"range\", \"called\", \"cooking\", \"call\", \"calls\", \"refund\", \"knobs\", \"phone\", \"support\", \"failed\", \"company\", \"samsung\", \"defective\", \"board\", \"send\", \"told\", \"cook\", \"sent\", \"frigidaire\", \"parts\", \"microwave\", \"hood\", \"repairman\", \"stopped\", \"panel\", \"replaced\", \"products\", \"replace\", \"said\", \"control\", \"part\", \"whirlpool\", \"years\", \"months\", \"year\", \"another\", \"appliance\", \"problem\", \"back\", \"would\", \"replacement\", \"unit\", \"model\", \"never\", \"product\", \"time\", \"bought\", \"purchased\", \"first\", \"even\", \"door\", \"still\", \"could\", \"dont\", \"clothes\", \"wash\", \"laundry\", \"load\", \"spin\", \"washing\", \"loads\", \"rinse\", \"detergent\", \"dishes\", \"drying\", \"hose\", \"soap\", \"towels\", \"washed\", \"lint\", \"clothing\", \"loader\", \"jeans\", \"laundromat\", \"washes\", \"fabric\", \"shirts\", \"softener\", \"sink\", \"agitator\", \"dirty\", \"cycle\", \"bleach\", \"silverware\", \"washer\", \"machine\", \"dryer\", \"drain\", \"faucet\", \"machines\", \"washers\", \"cleans\", \"cycles\", \"plates\", \"dishwasher\", \"clean\", \"water\", \"hand\", \"rack\", \"apartment\", \"time\", \"dont\", \"little\", \"like\", \"using\", \"much\", \"well\", \"also\", \"small\", \"used\", \"really\", \"even\", \"would\", \"still\", \"first\", \"bottles\", \"wine\", \"cellar\", \"beer\", \"kegs\", \"wines\", \"drinks\", \"heineken\", \"cans\", \"drink\", \"taste\", \"cooler\", \"thermoelectric\", \"cubes\", \"chilled\", \"reds\", \"kegerator\", \"beverages\", \"dorm\", \"zone\", \"colder\", \"sodas\", \"chiller\", \"chill\", \"beers\", \"champagne\", \"coldest\", \"ambient\", \"storing\", \"tastes\", \"shelves\", \"bottle\", \"cube\", \"shelf\", \"storage\", \"soda\", \"freezer\", \"cold\", \"filters\", \"packaged\", \"fridge\", \"beverage\", \"temperature\", \"temp\", \"degrees\", \"perfect\", \"cool\", \"keeps\", \"great\", \"price\", \"filter\", \"space\", \"looks\", \"easy\", \"works\", \"nice\", \"maker\", \"room\", \"refrigerator\", \"perfectly\", \"good\", \"keep\", \"unit\", \"well\", \"door\", \"like\", \"product\", \"little\", \"would\", \"small\", \"love\", \"really\", \"much\", \"water\", \"also\"], \"Freq\": [20580.0, 18018.0, 12333.0, 11812.0, 26052.0, 13753.0, 13365.0, 14442.0, 19567.0, 9358.0, 9013.0, 8359.0, 8655.0, 7325.0, 8098.0, 8485.0, 10099.0, 8280.0, 5930.0, 7516.0, 5415.0, 5036.0, 6793.0, 9897.0, 6278.0, 4874.0, 6427.0, 6679.0, 10379.0, 11189.0, 2440.637667374404, 2320.2111077818417, 1356.1169725330064, 2015.136503222691, 8480.455686334837, 794.2415187452094, 1402.4677430228194, 685.1564531546534, 500.1590446061868, 483.43046541217336, 416.4806726072089, 372.8718895736335, 530.6324514211428, 378.45099713910747, 376.2675061285737, 857.6306561579077, 343.83003256208895, 401.1993313190143, 1272.3138905786245, 559.9981945362559, 303.6012825683957, 317.29515523271897, 515.9225754099757, 305.54980763980615, 1258.7286632528399, 283.12389534057644, 257.4445425291575, 6414.72936184703, 373.0565489977037, 263.6529940108073, 13334.553036142921, 8248.668700613487, 6749.228822291165, 6600.577567565256, 5671.716734906605, 2903.529227279851, 4297.874716749606, 1262.0966269126034, 1245.7778209534715, 1209.5978773465536, 1431.8526883752793, 1447.387842242956, 1607.2987199937747, 4872.471924706683, 3788.088532137555, 1131.0075125552878, 2166.245476989216, 2348.8098072765815, 4425.287543941177, 2055.677237279593, 2363.7743325660263, 1837.8791860526453, 5717.385093859165, 6678.675702455386, 3571.977265681452, 1705.7472103171644, 3084.0600448156983, 3136.1007017914512, 4438.076317683942, 2647.3094653643757, 4941.485853439066, 5489.853558209501, 3834.974120497172, 7194.1972899678285, 4185.189796428234, 9082.983908148195, 8288.04508462718, 7000.569793532633, 6561.338402153952, 3793.1626083103292, 7999.068062865747, 8150.892748781568, 13387.88354798114, 4776.99421712504, 11935.065195878715, 5319.040829838541, 5974.153897523961, 8316.372359032803, 7779.357652872805, 6498.354394297823, 5327.802070261395, 6028.573456513835, 5733.731510878534, 5201.97763206237, 5089.417547201222, 5003.080941295392, 5046.432648624184, 12332.75363537089, 9012.973962181626, 5414.637666011256, 7324.173565143932, 4595.339666835903, 5929.46318628626, 3268.7274598282315, 3121.207172823686, 3008.0445954994248, 8653.282248788591, 2435.1129477056634, 4096.698146788247, 1722.606373372497, 1564.8071673830723, 1472.1660016190608, 1869.4206818689556, 1182.681055495288, 1075.8407285319104, 964.5010061288798, 977.1140840688186, 946.3874736381706, 744.415308481901, 725.6436988787583, 723.5987496035849, 3449.8862684279, 707.0880458462713, 1453.0873694214922, 9351.676057893661, 647.5746313638396, 817.2527163250023, 17996.17487193828, 20446.93729900503, 11704.353505710962, 3417.9946133283124, 2176.784056697528, 1933.2245402991362, 1596.9711532585072, 1494.7240897900535, 1881.3526660091343, 1327.264680057103, 12674.460576292171, 9044.162440804628, 18910.634130637285, 2475.6724871073397, 2829.8658141157107, 2221.8054976887775, 7884.3017970008195, 6678.804866436481, 5503.336106593741, 7318.8502390130225, 3760.3959243414643, 5250.123191385467, 6121.890164420601, 5385.745785778199, 4512.578330713038, 4276.197352159114, 4771.647224897482, 4862.632123184479, 6028.715945521112, 4160.9116355378055, 3907.070531553106, 4873.974248848383, 8357.091258137281, 1333.1561357255152, 3463.353453866253, 988.3364519533943, 938.9909105332345, 1251.9377204619536, 941.3955352832154, 975.4971391597569, 968.2894619122936, 963.7966351146918, 5031.342056539284, 482.391448724347, 1914.1621749969506, 431.05353970905134, 407.23911643836, 760.8828622713343, 446.7422530215357, 408.0019424051866, 540.8180400203036, 459.7330480980042, 343.2469909560101, 398.45715017717765, 355.2269547745047, 378.3734788890774, 305.1651588000911, 301.15087830506894, 362.8597213536644, 341.90640405094786, 338.3397474420929, 3021.2480297049856, 2610.562034074381, 615.6990500108645, 2607.2817540952583, 1537.2987929393432, 993.7777331102754, 7439.369023477385, 5806.21224196257, 1205.615439907981, 594.7693313943576, 12236.076791956526, 670.941633952076, 6698.093351859065, 2933.4075852262613, 3725.5522593389323, 4507.50831022357, 3298.1418685319672, 2249.7870719891826, 15034.799351254247, 7746.273130028793, 3710.1080772404475, 4946.768371307, 5157.689297313655, 7419.585186955715, 7869.57920748537, 5650.506482855854, 3741.659708490672, 4492.794748457814, 6349.404672872273, 2749.1392783278943, 9063.959669686059, 4995.479565018809, 10891.935686886376, 8671.619054850076, 6929.900304484947, 8578.677538390995, 7404.668814199723, 6124.636513527294, 8411.925841450604, 5124.570012224083, 4483.871064887405, 5182.528385554926, 5291.393819738781, 6333.421664537999, 4626.07562125889], \"Total\": [20580.0, 18018.0, 12333.0, 11812.0, 26052.0, 13753.0, 13365.0, 14442.0, 19567.0, 9358.0, 9013.0, 8359.0, 8655.0, 7325.0, 8098.0, 8485.0, 10099.0, 8280.0, 5930.0, 7516.0, 5415.0, 5036.0, 6793.0, 9897.0, 6278.0, 4874.0, 6427.0, 6679.0, 10379.0, 11189.0, 2441.275167837617, 2320.900203626837, 1356.6940491251219, 2016.0328465354091, 8485.144739348303, 794.8332257577731, 1403.5165889005496, 685.7506034016433, 500.6654341625138, 483.96684962834155, 417.02824028575867, 373.366294548769, 531.3380257106137, 378.9586323975727, 376.77700204183554, 858.893680939323, 344.3419666633261, 401.80060106862555, 1274.3024796761376, 560.8931399255656, 304.0901866559571, 317.80971637279384, 516.7645628895176, 306.05318672371254, 1260.821630216513, 283.615542613565, 257.9387522284743, 6427.267228004772, 373.79009155114676, 264.17753392176115, 13365.817701076645, 8280.382203356565, 6793.834132335005, 6679.607637577271, 5737.156297336235, 2921.967266443672, 4348.305685537681, 1264.6814562991997, 1248.4947660467503, 1212.17614756261, 1439.1515025034516, 1455.4774147850178, 1618.4935875973483, 4963.134747869692, 3851.3197016699314, 1136.1784839844363, 2192.426859637968, 2381.8420355700814, 4534.151937515493, 2084.1221342689764, 2403.806700516591, 1862.9938049906164, 5990.152451233015, 7088.16181641175, 3744.562212417913, 1736.021985839703, 3292.543326508012, 3379.3215267236346, 5033.221236844941, 2868.1692617299955, 5852.483246240734, 6608.210335666118, 4390.6271897146025, 9202.634247210222, 4890.102991455904, 12225.691012958685, 11441.70497213298, 9628.850533045443, 8945.452766046032, 4437.612901890792, 12048.231685581202, 13083.714076590239, 27828.525334952858, 6238.721074023149, 24273.575797258836, 7667.182007057497, 9317.166177905783, 16832.224125226978, 19526.3893072495, 13231.537847659098, 8404.30377453248, 12355.157568570588, 13653.007189243053, 14311.2605438865, 11525.416299800378, 10035.01790950156, 15510.112239427734, 12333.31215737369, 9013.617336189069, 5415.221314247034, 7325.009325893189, 4595.87306075982, 5930.294176237013, 3269.2640587294436, 3121.7543039193915, 3008.577627700606, 8655.11069346129, 2435.672838682183, 4097.762716619864, 1723.1749135239959, 1565.3289041198473, 1472.7223562267745, 1870.2136612025754, 1183.187660621596, 1076.370386215825, 964.9954767119071, 977.6267742691057, 946.9032956029316, 744.9153078875156, 726.1426304423101, 724.0992032489546, 3452.35126441423, 707.6135561102586, 1454.17019032959, 9358.850976008865, 648.0836062718893, 817.9587553489578, 18018.713827184103, 20580.55394348809, 11812.4932143367, 3433.9579953309812, 2180.138382915114, 1939.757532758948, 1599.6837455668256, 1496.2947096233102, 1887.737366721645, 1328.7381689517906, 14442.64481489769, 10099.02683422556, 26052.937032737696, 2755.148928701929, 3450.7702421958465, 2578.96716001176, 19526.3893072495, 15510.112239427734, 12376.865482523277, 20793.00891897491, 6442.797671989284, 12989.709064579507, 17889.349313761813, 13898.03228430772, 9909.951621393016, 9083.251463045684, 11806.937325312581, 13653.007189243053, 27828.525334952858, 11525.416299800378, 12355.157568570588, 4874.567961516337, 8359.46355047935, 1333.737425045448, 3464.8968465232965, 988.8226975616343, 939.4625215385131, 1252.5815776951304, 941.9123263133531, 976.165969155441, 969.0170149583362, 964.6645425985455, 5036.095050161323, 482.879451788567, 1916.2424102433079, 431.53255972255675, 407.70655417894113, 761.7818845168081, 447.2948385731493, 408.5178449033304, 541.5129773496787, 460.35915406463937, 343.7216050579367, 399.02121244985995, 355.734697008508, 378.9462273838653, 305.6289381173518, 301.6248512267629, 363.47009710117936, 342.5087376051451, 338.94588910781266, 3030.5843931528993, 2616.502709147109, 617.6902850731803, 2661.002419316012, 1565.6913023931843, 1009.744987282025, 8098.344627701298, 6278.405854414781, 1244.9281918259899, 602.4697991754374, 13753.819498870655, 683.7093027362216, 7516.001355004712, 3182.1567314028025, 4102.429151957294, 5049.209449496277, 3664.7684719475183, 2455.909079823957, 19567.467251754257, 9897.756462156676, 4519.2555536923455, 6386.153960575289, 6734.422927577495, 10379.556751148904, 11189.572418739033, 7619.368928067148, 4727.388917220741, 6008.924557178581, 9344.06076012172, 3391.40728041485, 16185.173745446837, 7556.536526691981, 24273.575797258836, 17889.349313761813, 14311.2605438865, 20793.00891897491, 16832.224125226978, 12376.865482523277, 27828.525334952858, 9909.951621393016, 7492.049788412398, 11806.937325312581, 12989.709064579507, 26052.937032737696, 13898.03228430772], \"Category\": [\"Default\", \"Default\", \"Default\", \"Default\", \"Default\", \"Default\", \"Default\", \"Default\", \"Default\", \"Default\", \"Default\", \"Default\", \"Default\", \"Default\", \"Default\", \"Default\", \"Default\", \"Default\", \"Default\", \"Default\", \"Default\", \"Default\", \"Default\", \"Default\", \"Default\", \"Default\", \"Default\", \"Default\", \"Default\", \"Default\", \"Topic1\", \"Topic1\", \"Topic1\", \"Topic1\", \"Topic1\", \"Topic1\", \"Topic1\", \"Topic1\", \"Topic1\", \"Topic1\", \"Topic1\", \"Topic1\", \"Topic1\", \"Topic1\", \"Topic1\", \"Topic1\", \"Topic1\", \"Topic1\", \"Topic1\", \"Topic1\", \"Topic1\", \"Topic1\", \"Topic1\", \"Topic1\", \"Topic1\", \"Topic1\", \"Topic1\", \"Topic1\", \"Topic1\", \"Topic1\", \"Topic1\", \"Topic1\", \"Topic1\", \"Topic1\", \"Topic1\", \"Topic1\", \"Topic1\", \"Topic1\", \"Topic1\", \"Topic1\", \"Topic1\", \"Topic1\", \"Topic1\", \"Topic1\", \"Topic1\", \"Topic1\", \"Topic1\", \"Topic1\", \"Topic1\", \"Topic1\", \"Topic1\", \"Topic1\", \"Topic1\", \"Topic1\", \"Topic1\", \"Topic1\", \"Topic1\", \"Topic1\", \"Topic1\", \"Topic1\", \"Topic1\", \"Topic1\", \"Topic1\", \"Topic1\", \"Topic1\", \"Topic1\", \"Topic1\", \"Topic1\", \"Topic1\", \"Topic1\", \"Topic1\", \"Topic1\", \"Topic1\", \"Topic1\", \"Topic1\", \"Topic1\", \"Topic1\", \"Topic1\", \"Topic1\", \"Topic1\", \"Topic1\", \"Topic1\", \"Topic1\", \"Topic1\", \"Topic1\", \"Topic1\", \"Topic1\", \"Topic2\", \"Topic2\", \"Topic2\", \"Topic2\", \"Topic2\", \"Topic2\", \"Topic2\", \"Topic2\", \"Topic2\", \"Topic2\", \"Topic2\", \"Topic2\", \"Topic2\", \"Topic2\", \"Topic2\", \"Topic2\", \"Topic2\", \"Topic2\", \"Topic2\", \"Topic2\", \"Topic2\", \"Topic2\", \"Topic2\", \"Topic2\", \"Topic2\", \"Topic2\", \"Topic2\", \"Topic2\", \"Topic2\", \"Topic2\", \"Topic2\", \"Topic2\", \"Topic2\", \"Topic2\", \"Topic2\", \"Topic2\", \"Topic2\", \"Topic2\", \"Topic2\", \"Topic2\", \"Topic2\", \"Topic2\", \"Topic2\", \"Topic2\", \"Topic2\", \"Topic2\", \"Topic2\", \"Topic2\", \"Topic2\", \"Topic2\", \"Topic2\", \"Topic2\", \"Topic2\", \"Topic2\", \"Topic2\", \"Topic2\", \"Topic2\", \"Topic2\", \"Topic2\", \"Topic2\", \"Topic2\", \"Topic3\", \"Topic3\", \"Topic3\", \"Topic3\", \"Topic3\", \"Topic3\", \"Topic3\", \"Topic3\", \"Topic3\", \"Topic3\", \"Topic3\", \"Topic3\", \"Topic3\", \"Topic3\", \"Topic3\", \"Topic3\", \"Topic3\", \"Topic3\", \"Topic3\", \"Topic3\", \"Topic3\", \"Topic3\", \"Topic3\", \"Topic3\", \"Topic3\", \"Topic3\", \"Topic3\", \"Topic3\", \"Topic3\", \"Topic3\", \"Topic3\", \"Topic3\", \"Topic3\", \"Topic3\", \"Topic3\", \"Topic3\", \"Topic3\", \"Topic3\", \"Topic3\", \"Topic3\", \"Topic3\", \"Topic3\", \"Topic3\", \"Topic3\", \"Topic3\", \"Topic3\", \"Topic3\", \"Topic3\", \"Topic3\", \"Topic3\", \"Topic3\", \"Topic3\", \"Topic3\", \"Topic3\", \"Topic3\", \"Topic3\", \"Topic3\", \"Topic3\", \"Topic3\", \"Topic3\", \"Topic3\", \"Topic3\", \"Topic3\", \"Topic3\", \"Topic3\", \"Topic3\", \"Topic3\", \"Topic3\", \"Topic3\", \"Topic3\", \"Topic3\", \"Topic3\", \"Topic3\", \"Topic3\", \"Topic3\"], \"logprob\": [30.0, 29.0, 28.0, 27.0, 26.0, 25.0, 24.0, 23.0, 22.0, 21.0, 20.0, 19.0, 18.0, 17.0, 16.0, 15.0, 14.0, 13.0, 12.0, 11.0, 10.0, 9.0, 8.0, 7.0, 6.0, 5.0, 4.0, 3.0, 2.0, 1.0, -6.3784, -6.429, -6.966, -6.5699, -5.1329, -7.501, -6.9324, -7.6487, -7.9634, -7.9975, -8.1465, -8.2571, -7.9043, -8.2423, -8.2481, -7.4242, -8.3382, -8.1839, -7.0298, -7.8504, -8.4627, -8.4185, -7.9324, -8.4563, -7.0405, -8.5325, -8.6276, -5.412, -8.2566, -8.6037, -4.6803, -5.1606, -5.3612, -5.3835, -5.5351, -6.2047, -5.8125, -7.0378, -7.0509, -7.0803, -6.9116, -6.9009, -6.7961, -5.687, -5.9388, -7.1475, -6.4976, -6.4167, -5.7833, -6.55, -6.4104, -6.662, -5.5271, -5.3717, -5.9975, -6.7366, -6.1444, -6.1276, -5.7804, -6.2971, -5.673, -5.5677, -5.9265, -5.2973, -5.8391, -5.0642, -5.1558, -5.3246, -5.3894, -5.9374, -5.1913, -5.1725, -4.6763, -5.7068, -4.7911, -5.5993, -5.4832, -5.1524, -5.2191, -5.3991, -5.5977, -5.4741, -5.5243, -5.6216, -5.6435, -5.6606, -5.6519, -4.5319, -4.8455, -5.3551, -5.053, -5.5191, -5.2642, -5.8598, -5.9059, -5.9429, -4.8862, -6.1542, -5.634, -6.5003, -6.5964, -6.6574, -6.4185, -6.8764, -6.9711, -7.0803, -7.0673, -7.0993, -7.3393, -7.3649, -7.3677, -5.8058, -7.3908, -6.6705, -4.8086, -7.4787, -7.246, -4.154, -4.0263, -4.5842, -5.8151, -6.2663, -6.385, -6.5761, -6.6422, -6.4122, -6.761, -4.5046, -4.842, -4.1044, -6.1377, -6.0039, -6.2458, -4.9793, -5.1452, -5.3388, -5.0537, -5.7196, -5.3859, -5.2323, -5.3604, -5.5373, -5.5911, -5.4815, -5.4626, -5.2476, -5.6184, -5.6814, -5.3965, -4.8573, -6.6929, -5.7382, -6.9922, -7.0434, -6.7557, -7.0408, -7.0052, -7.0127, -7.0173, -5.3648, -7.7094, -6.3312, -7.822, -7.8788, -7.2537, -7.7862, -7.8769, -7.5951, -7.7575, -8.0497, -7.9006, -8.0154, -7.9523, -8.1673, -8.1806, -7.9942, -8.0537, -8.0641, -5.8748, -6.0209, -7.4654, -6.0221, -6.5504, -6.9867, -4.9737, -5.2215, -6.7934, -7.5, -4.4761, -7.3795, -5.0786, -5.9043, -5.6652, -5.4747, -5.7871, -6.1696, -4.2701, -4.9332, -5.6694, -5.3817, -5.34, -4.9763, -4.9174, -5.2487, -5.6609, -5.478, -5.1321, -5.9692, -4.7761, -5.3719, -4.5924, -4.8204, -5.0446, -4.8312, -4.9783, -5.1681, -4.8508, -5.3464, -5.48, -5.3351, -5.3144, -5.1346, -5.4487], \"loglift\": [30.0, 29.0, 28.0, 27.0, 26.0, 25.0, 24.0, 23.0, 22.0, 21.0, 20.0, 19.0, 18.0, 17.0, 16.0, 15.0, 14.0, 13.0, 12.0, 11.0, 10.0, 9.0, 8.0, 7.0, 6.0, 5.0, 4.0, 3.0, 2.0, 1.0, 0.9341, 0.934, 0.9339, 0.9339, 0.9338, 0.9336, 0.9336, 0.9335, 0.9333, 0.9332, 0.933, 0.933, 0.933, 0.933, 0.933, 0.9329, 0.9328, 0.9328, 0.9328, 0.9327, 0.9327, 0.9327, 0.9327, 0.9327, 0.9327, 0.9326, 0.9324, 0.9324, 0.9324, 0.9323, 0.932, 0.9305, 0.9277, 0.9224, 0.9229, 0.928, 0.9227, 0.9323, 0.9321, 0.9322, 0.9292, 0.9287, 0.9274, 0.9159, 0.9178, 0.9298, 0.9223, 0.9204, 0.91, 0.9206, 0.9175, 0.9208, 0.8877, 0.8748, 0.8871, 0.9167, 0.8689, 0.8596, 0.8085, 0.8542, 0.7651, 0.7489, 0.799, 0.6881, 0.7787, 0.6372, 0.6119, 0.6156, 0.6244, 0.7774, 0.5247, 0.4611, 0.2026, 0.6674, 0.2244, 0.5687, 0.4899, 0.2293, 0.014, 0.2233, 0.4785, 0.2168, 0.0667, -0.0777, 0.1169, 0.2383, -0.1885, 1.1607, 1.1607, 1.1607, 1.1607, 1.1607, 1.1606, 1.1606, 1.1606, 1.1606, 1.1606, 1.1605, 1.1605, 1.1604, 1.1604, 1.1604, 1.1603, 1.1603, 1.1603, 1.1603, 1.1602, 1.1602, 1.1601, 1.1601, 1.1601, 1.1601, 1.16, 1.16, 1.16, 1.16, 1.1599, 1.1595, 1.1543, 1.1516, 1.1561, 1.1592, 1.1574, 1.1591, 1.1597, 1.1574, 1.1597, 1.0302, 1.0505, 0.8404, 1.0538, 0.9624, 1.0117, 0.2539, 0.3182, 0.3503, 0.1166, 0.6223, 0.2549, 0.0884, 0.2128, 0.3741, 0.4074, 0.2548, 0.1284, -0.3688, 0.142, 0.0095, 1.2244, 1.2242, 1.2241, 1.2241, 1.224, 1.224, 1.224, 1.224, 1.2238, 1.2238, 1.2236, 1.2236, 1.2235, 1.2234, 1.2234, 1.2234, 1.2233, 1.2233, 1.2232, 1.2232, 1.2231, 1.2231, 1.2231, 1.2231, 1.223, 1.223, 1.2229, 1.2228, 1.2227, 1.2227, 1.2214, 1.2222, 1.2213, 1.2041, 1.2062, 1.2086, 1.1396, 1.1463, 1.1924, 1.2116, 1.1076, 1.2057, 1.1093, 1.1431, 1.1281, 1.111, 1.1191, 1.1368, 0.961, 0.9794, 1.0272, 0.9691, 0.9578, 0.8888, 0.8725, 0.9256, 0.9907, 0.9337, 0.8381, 1.0145, 0.6447, 0.8106, 0.4231, 0.5004, 0.4993, 0.3392, 0.4033, 0.521, 0.0281, 0.565, 0.7111, 0.4011, 0.3264, -0.1898, 0.1245]}, \"token.table\": {\"Topic\": [2, 1, 2, 3, 3, 1, 2, 3, 2, 3, 1, 2, 3, 1, 1, 1, 2, 3, 1, 3, 3, 1, 3, 3, 2, 1, 2, 1, 1, 2, 3, 3, 1, 2, 3, 1, 1, 3, 1, 1, 3, 1, 2, 3, 1, 2, 3, 1, 2, 3, 3, 3, 3, 3, 3, 1, 2, 3, 2, 3, 2, 2, 1, 2, 3, 3, 3, 1, 2, 3, 1, 2, 3, 1, 2, 3, 1, 1, 2, 3, 1, 2, 3, 1, 1, 1, 2, 3, 1, 3, 1, 2, 3, 1, 2, 3, 1, 2, 3, 1, 2, 3, 1, 2, 1, 2, 3, 1, 2, 3, 1, 2, 3, 2, 1, 2, 1, 2, 3, 1, 2, 3, 1, 2, 3, 1, 2, 3, 3, 1, 2, 3, 3, 3, 1, 2, 3, 2, 1, 2, 3, 1, 2, 1, 2, 1, 2, 3, 1, 2, 2, 1, 2, 3, 2, 3, 1, 2, 3, 1, 2, 3, 1, 2, 3, 1, 1, 3, 1, 3, 1, 2, 3, 1, 1, 2, 3, 1, 2, 3, 1, 1, 2, 3, 3, 1, 3, 2, 3, 1, 2, 1, 2, 3, 1, 2, 3, 1, 3, 3, 1, 2, 2, 2, 1, 2, 3, 2, 3, 1, 2, 3, 2, 2, 2, 1, 2, 3, 1, 2, 3, 1, 2, 3, 1, 2, 1, 1, 2, 3, 1, 2, 3, 1, 2, 3, 1, 2, 3, 1, 2, 3, 1, 2, 3, 1, 2, 3, 1, 3, 1, 1, 2, 3, 1, 2, 3, 1, 2, 3, 1, 2, 3, 1, 2, 3, 1, 2, 3, 1, 2, 2, 3, 1, 2, 3, 1, 2, 3, 1, 2, 3, 1, 2, 3, 1, 2, 3, 1, 2, 3, 1, 3, 1, 2, 3, 3, 1, 3, 1, 2, 3, 1, 2, 3, 1, 2, 1, 2, 3, 1, 2, 3, 1, 2, 3, 1, 2, 1, 2, 3, 1, 1, 2, 3, 1, 2, 3, 1, 2, 3, 1, 2, 3, 1, 2, 3, 1, 1, 2, 3, 1, 3, 2, 2, 1, 2, 3, 1, 2, 3, 2, 1, 2, 3, 3, 2, 1, 2, 3, 2, 1, 2, 3, 1, 2, 3, 1, 2, 3, 3, 1, 1, 2, 3, 1, 3, 3, 1, 2, 1, 2, 3, 1, 2, 3, 1, 3, 1, 2, 3, 1, 2, 3, 2, 1, 2, 3, 1, 2, 3, 1, 2, 3, 1, 1, 2, 3, 2, 2, 1, 2, 1, 2, 2, 1, 2, 1, 2, 3, 1, 2, 3, 1, 2, 3, 1, 3, 3, 1, 2, 3, 1, 2, 3, 1, 2, 3, 1, 2, 3, 3], \"Freq\": [0.9991329220519299, 0.27960792725943556, 0.387536874992105, 0.3328528748075525, 0.9987066416056546, 0.7334452678464054, 0.17215450578927974, 0.09434961226373513, 0.8615852246795836, 0.1384275090956847, 0.854738816534418, 0.108391608424217, 0.0367314598194332, 0.9990189405039581, 0.998670900531356, 0.6229882395996413, 0.1850392010882998, 0.19199441269467538, 0.000288608880522203, 0.999452553248389, 0.9975030035517235, 0.01901392879689318, 0.9814112479011786, 0.9993408406542542, 0.9998709946200148, 0.9879462981755607, 0.011859004502569057, 0.9980022399693614, 0.0007643791053638665, 0.001528758210727733, 0.9978969220525277, 0.9998834847476081, 0.49109937747331583, 0.24229987752838575, 0.2665600960831617, 0.9963605614884777, 0.9984076469081363, 0.0017828707980502435, 0.9998872852019132, 0.9994876836767892, 0.0004960236643557266, 0.988430968479287, 0.011268756969633566, 0.00022997463203333808, 0.9886431022688911, 0.011329654733335318, 0.00017430238051285103, 0.9978797377902209, 0.0015814258919020932, 0.9988055625864014, 0.9994470987830136, 0.9979421512857192, 0.9979347052320554, 0.9987658875082354, 0.9974407063634787, 0.05931264564720152, 0.8955318317751094, 0.04515286546765258, 0.9991347228490596, 0.0006683175403672639, 0.9999746898992171, 0.9998413940342334, 0.004937559106377578, 0.07024076019072618, 0.9247570377944586, 0.9992198394200087, 0.9979283828098993, 0.9816376639967695, 0.00805942252870911, 0.010275763724104115, 0.9985552038663865, 0.0007931336011647232, 0.0007931336011647232, 0.8734515216832338, 0.046690368173419275, 0.07971526273510608, 0.9994884262037049, 0.9865064845257543, 0.011035821568138302, 0.002399091645247457, 0.9938509692938688, 0.0037645870049010186, 0.002395646275846103, 0.9996121316955248, 0.9980074667223088, 0.07940474336305284, 0.02073800857591758, 0.8999204247812655, 0.000992832730557743, 0.998988293487201, 0.498554167527988, 0.2756347846057195, 0.22580926316578467, 0.0016189343173521433, 0.0016189343173521433, 0.9972635394889202, 0.0005218546435745719, 0.0005218546435745719, 0.9988297878017306, 0.9980913773195361, 0.000933522722356542, 0.001089109842749299, 0.0007479550660593155, 0.9992679682552454, 0.0005297347065480081, 0.9964309830168031, 0.00264867353274004, 0.9954421914712942, 0.003520573621472305, 0.0008801434053680762, 0.09165301485355526, 0.00024375801822754058, 0.9082423759158162, 0.9998080063830537, 0.000687677416749513, 0.9991952865370423, 0.00011553867251582049, 0.9997561332793946, 0.00011553867251582049, 0.12186133651812496, 0.8775401017219976, 0.0005539151659914771, 0.32533613697344715, 0.4306222867312036, 0.24403433976307914, 0.3634899933550715, 0.15225772693592862, 0.4842340741927423, 0.9987323811926675, 0.004368137298241538, 0.9953528856926385, 0.0002912091532161025, 0.9989504673884597, 0.9995356967518231, 0.008719581728520272, 0.9908153839864201, 0.00042328066643302297, 0.9997237565441889, 0.031600578701368336, 0.2535753754329313, 0.7148667498907105, 0.9989194364266563, 0.0007124960316880573, 0.9989594975965528, 0.001164288458737241, 0.41998073541759434, 0.3561852661904013, 0.22390671576065327, 0.9985204811931326, 0.0019351172116145983, 0.998771259124596, 0.9928985893515893, 0.006178584874620966, 0.0012357169749241932, 0.9985604661888858, 0.0013760594389373713, 0.01261269678662663, 0.1663990874305829, 0.8209316680418386, 0.030523848885021843, 0.0016065183623695707, 0.9687305725088511, 0.4879743513216494, 0.3162242147310805, 0.19586961854343865, 0.9974703508097765, 0.08137465498144107, 0.9185827896918667, 0.11029663433670647, 0.8896437822965988, 0.9865840643572391, 0.0016103113128790628, 0.011808949627779793, 0.9975343629365385, 0.21186056164300587, 0.22811000104577944, 0.5600187024590858, 0.052076233826769014, 0.17958379358907392, 0.7683671988081179, 0.9979377668020479, 0.042465943957201546, 0.8986810020344532, 0.05879899932535599, 0.9990314105805113, 0.9539165855368478, 0.04593327343570487, 0.9998138699889161, 0.00024403560409785603, 0.9989516973740262, 1.0000046873671453, 0.14689269297900473, 0.19201918694823053, 0.6610171184055214, 0.010179529936748323, 0.07369979674205786, 0.9161576943073491, 0.001312711709644148, 0.9989736110391966, 0.9991680029557746, 0.9982047596242628, 0.0016499252225194428, 0.9993588818497997, 0.9999591310799336, 0.23541566394140337, 0.3519933083528358, 0.412590598764719, 0.9993510574605711, 0.0005346982650939386, 0.06051612995694456, 0.4446198439960827, 0.4948748945077242, 0.99986220824462, 0.9996558933425072, 0.9999192299169782, 0.20372940855580265, 0.030440618625320364, 0.765915662777573, 0.045247964118486694, 0.3562442956703274, 0.5985010947117827, 0.005782157289194487, 0.9935106730433587, 0.0006802537987287632, 0.0030931700991855948, 0.9965163002876258, 0.999327974945009, 0.2083602634028865, 0.00021153326233795585, 0.7915574676686308, 0.9422753279327812, 0.003950248417744853, 0.053751594541456754, 0.6937359769344148, 0.15598951464815947, 0.15038119597769886, 0.7243675676121667, 0.14831705625456645, 0.12734116143954233, 0.18845687673446324, 0.4041660959378807, 0.4073224406871099, 0.6411820811102861, 0.2794841210597899, 0.07931596215944114, 0.13583802146492924, 0.12245108601621156, 0.7416624727519953, 0.9993936768898655, 0.0004714121117405026, 0.9989054280114084, 0.00663933695178505, 0.004979502713838788, 0.9876013715780262, 0.9279969293245846, 0.06924466883353086, 0.002959173881774823, 0.7817326872662423, 0.05617956621026512, 0.16212749088146142, 0.9543997496796948, 0.0442392747358963, 0.0013355252750459259, 0.003961016115502053, 0.10338252061460358, 0.8928130324341627, 0.03921675841414451, 0.15038005106175711, 0.8105779615073928, 0.9950307507645919, 0.004863977133625798, 0.998691864964516, 0.0007525937188881056, 0.168219940182, 0.04910203659366486, 0.7826015955854486, 0.6639148556192569, 0.23289724776442491, 0.10325166650710783, 0.4940523568443075, 0.06600434926094584, 0.43992997864743827, 0.9228883508790577, 0.04671969739999763, 0.02998428340596863, 0.6339609018114519, 0.15218393269835717, 0.21393800703021593, 0.05795807485366889, 0.8201067591794148, 0.12171195719270467, 0.9882316983508058, 0.011827041989049183, 0.15694163091959523, 0.40416916500178546, 0.43897920834120996, 0.9982670031381663, 0.32041743700744074, 0.679469040601283, 0.998001780932851, 0.0008009645111820634, 0.0016019290223641268, 0.9934007614166471, 0.006476460735269295, 0.00014719228943793852, 0.9827064483718613, 0.017280887134323467, 0.8442570088814499, 0.07518176156807083, 0.08047865840582127, 0.8817414914155346, 0.07887592881747797, 0.039338624448011686, 0.7657018070403118, 0.003846942300390932, 0.23049595949842333, 0.9974521975538216, 0.9997583717852349, 0.009652309568558339, 0.24280551138838993, 0.7477211533022865, 0.9990068980942411, 0.8307846937572696, 0.12545000202637094, 0.04388480167388127, 0.9835589598956233, 0.014540470368045117, 0.0018175587960056396, 0.9862114972027434, 0.012175450582749919, 0.0016793724941724026, 0.9834401407949999, 0.0037440614497271565, 0.012896211660171318, 0.9976942898843995, 0.0015711721100541724, 0.0007481771952638916, 0.9978862694089401, 0.01615932390285191, 0.004133780533287699, 0.9797059863891845, 0.002969724261873057, 0.9968374439020561, 0.9998035779248724, 0.9988278683458205, 0.9998262173830572, 0.9993189382440697, 0.0005793153265183013, 0.027548065866503706, 0.45540081045982134, 0.5171569141605549, 0.9998984934595884, 0.0019806981219916606, 0.013864886853941622, 0.9844069666298553, 0.9979006118692624, 0.9998629977101072, 0.00704649469427233, 0.21844133552244224, 0.7746446500570049, 0.9998100337523953, 0.4415458728452301, 0.3610281738866187, 0.19738983311513036, 0.9366619340043164, 0.0458612036428832, 0.017311845083737367, 0.001916086520640724, 0.015967387672006034, 0.9816749940749309, 0.9985146726220703, 0.9978296583893369, 0.9941755092185542, 0.002748239140894414, 0.002748239140894414, 0.0010366297877045115, 0.9993111153471492, 0.9972093211978393, 0.9981931451026268, 0.001569486077205388, 0.07133526697785583, 0.006913550103580742, 0.9217019297182871, 0.10337943852053934, 0.005321978817016182, 0.8911653529093597, 0.9997034213535502, 0.9981787342880101, 0.3983839448039641, 0.40376128304852205, 0.197834834654546, 0.9759267137449956, 0.02381922826767447, 0.00022054840988587472, 0.9997898817820449, 0.4916869314881821, 0.05961214829186422, 0.44871839612645825, 0.3175074489276522, 0.47075653662088796, 0.2117083301969054, 0.1820637647989066, 0.5835974046409964, 0.23421502223491053, 0.9993638217212826, 0.9962100537649284, 0.003623021167771591, 0.00012076737225905303, 0.9999315107169471, 0.9995095095666061, 0.0012209528499647678, 0.9987394312711801, 0.001250247122621933, 0.9983223274136135, 0.9990460529526868, 0.00016862569887461068, 0.9997817686275668, 0.031052161181805482, 0.725868257242427, 0.24308199847265033, 0.17306386865721982, 0.34221479454764203, 0.4847577096238405, 0.8558101960862837, 0.14375975336885483, 0.00040898934102092413, 0.00023924980208632116, 0.9997052980176929, 0.999507674305351, 0.061753923576453304, 0.23495089013385778, 0.7033333987651049, 0.4810890925357285, 0.21664820278592076, 0.30227976145880997, 0.7270857488101129, 0.187769037830122, 0.0851607361840155, 0.7429436904934393, 0.22174615709872444, 0.035335425992862025, 0.9990526961104618], \"Term\": [\"agitator\", \"also\", \"also\", \"also\", \"ambient\", \"another\", \"another\", \"another\", \"apartment\", \"apartment\", \"appliance\", \"appliance\", \"appliance\", \"appointment\", \"authorized\", \"back\", \"back\", \"back\", \"beer\", \"beer\", \"beers\", \"beverage\", \"beverage\", \"beverages\", \"bleach\", \"board\", \"board\", \"boil\", \"bottle\", \"bottle\", \"bottle\", \"bottles\", \"bought\", \"bought\", \"bought\", \"broiler\", \"bulb\", \"bulb\", \"burner\", \"burners\", \"burners\", \"call\", \"call\", \"call\", \"called\", \"called\", \"called\", \"calls\", \"calls\", \"cans\", \"cellar\", \"champagne\", \"chill\", \"chilled\", \"chiller\", \"clean\", \"clean\", \"clean\", \"cleans\", \"cleans\", \"clothes\", \"clothing\", \"cold\", \"cold\", \"cold\", \"colder\", \"coldest\", \"company\", \"company\", \"company\", \"contacted\", \"contacted\", \"contacted\", \"control\", \"control\", \"control\", \"convection\", \"cook\", \"cook\", \"cook\", \"cooking\", \"cooking\", \"cooking\", \"cooktop\", \"cookware\", \"cool\", \"cool\", \"cool\", \"cooler\", \"cooler\", \"could\", \"could\", \"could\", \"cube\", \"cube\", \"cube\", \"cubes\", \"cubes\", \"cubes\", \"customer\", \"customer\", \"customer\", \"cycle\", \"cycle\", \"cycles\", \"cycles\", \"cycles\", \"defective\", \"defective\", \"defective\", \"degrees\", \"degrees\", \"degrees\", \"detergent\", \"dirty\", \"dirty\", \"dishes\", \"dishes\", \"dishes\", \"dishwasher\", \"dishwasher\", \"dishwasher\", \"dont\", \"dont\", \"dont\", \"door\", \"door\", \"door\", \"dorm\", \"drain\", \"drain\", \"drain\", \"drink\", \"drinks\", \"dryer\", \"dryer\", \"dryer\", \"drying\", \"easy\", \"easy\", \"easy\", \"electrolux\", \"electrolux\", \"email\", \"email\", \"even\", \"even\", \"even\", \"expired\", \"expired\", \"fabric\", \"failed\", \"failed\", \"failed\", \"faucet\", \"faucet\", \"filter\", \"filter\", \"filter\", \"filters\", \"filters\", \"filters\", \"first\", \"first\", \"first\", \"flame\", \"freezer\", \"freezer\", \"fridge\", \"fridge\", \"frigidaire\", \"frigidaire\", \"frigidaire\", \"fuse\", \"good\", \"good\", \"good\", \"great\", \"great\", \"great\", \"griddle\", \"hand\", \"hand\", \"hand\", \"heineken\", \"hood\", \"hood\", \"hose\", \"hose\", \"induction\", \"jeans\", \"keep\", \"keep\", \"keep\", \"keeps\", \"keeps\", \"keeps\", \"kegerator\", \"kegerator\", \"kegs\", \"knobs\", \"knobs\", \"laundromat\", \"laundry\", \"like\", \"like\", \"like\", \"lint\", \"lint\", \"little\", \"little\", \"little\", \"load\", \"loader\", \"loads\", \"looks\", \"looks\", \"looks\", \"love\", \"love\", \"love\", \"machine\", \"machine\", \"machine\", \"machines\", \"machines\", \"magnetron\", \"maker\", \"maker\", \"maker\", \"microwave\", \"microwave\", \"microwave\", \"model\", \"model\", \"model\", \"months\", \"months\", \"months\", \"much\", \"much\", \"much\", \"never\", \"never\", \"never\", \"nice\", \"nice\", \"nice\", \"oven\", \"oven\", \"ovens\", \"packaged\", \"packaged\", \"packaged\", \"panel\", \"panel\", \"panel\", \"part\", \"part\", \"part\", \"parts\", \"parts\", \"parts\", \"perfect\", \"perfect\", \"perfect\", \"perfectly\", \"perfectly\", \"perfectly\", \"phone\", \"phone\", \"plates\", \"plates\", \"price\", \"price\", \"price\", \"problem\", \"problem\", \"problem\", \"product\", \"product\", \"product\", \"products\", \"products\", \"products\", \"purchased\", \"purchased\", \"purchased\", \"rack\", \"rack\", \"rack\", \"range\", \"range\", \"really\", \"really\", \"really\", \"reds\", \"refrigerator\", \"refrigerator\", \"refund\", \"refund\", \"refund\", \"repair\", \"repair\", \"repair\", \"repairman\", \"repairman\", \"replace\", \"replace\", \"replace\", \"replaced\", \"replaced\", \"replaced\", \"replacement\", \"replacement\", \"replacement\", \"representative\", \"rinse\", \"room\", \"room\", \"room\", \"rude\", \"said\", \"said\", \"said\", \"samsung\", \"samsung\", \"samsung\", \"send\", \"send\", \"send\", \"sent\", \"sent\", \"sent\", \"service\", \"service\", \"service\", \"serviced\", \"shelf\", \"shelf\", \"shelf\", \"shelves\", \"shelves\", \"shirts\", \"silverware\", \"simmer\", \"sink\", \"sink\", \"small\", \"small\", \"small\", \"soap\", \"soda\", \"soda\", \"soda\", \"sodas\", \"softener\", \"space\", \"space\", \"space\", \"spin\", \"still\", \"still\", \"still\", \"stopped\", \"stopped\", \"stopped\", \"storage\", \"storage\", \"storage\", \"storing\", \"supervisor\", \"support\", \"support\", \"support\", \"taste\", \"taste\", \"tastes\", \"technician\", \"technician\", \"temp\", \"temp\", \"temp\", \"temperature\", \"temperature\", \"temperature\", \"thermador\", \"thermoelectric\", \"time\", \"time\", \"time\", \"told\", \"told\", \"told\", \"towels\", \"unit\", \"unit\", \"unit\", \"used\", \"used\", \"used\", \"using\", \"using\", \"using\", \"viking\", \"warranty\", \"warranty\", \"warranty\", \"wash\", \"washed\", \"washer\", \"washer\", \"washers\", \"washers\", \"washes\", \"washing\", \"washing\", \"water\", \"water\", \"water\", \"well\", \"well\", \"well\", \"whirlpool\", \"whirlpool\", \"whirlpool\", \"wine\", \"wine\", \"wines\", \"works\", \"works\", \"works\", \"would\", \"would\", \"would\", \"year\", \"year\", \"year\", \"years\", \"years\", \"years\", \"zone\"]}, \"R\": 30, \"lambda.step\": 0.01, \"plot.opts\": {\"xlab\": \"PC1\", \"ylab\": \"PC2\"}, \"topic.order\": [3, 1, 2]};\n",
       "\n",
       "function LDAvis_load_lib(url, callback){\n",
       "  var s = document.createElement('script');\n",
       "  s.src = url;\n",
       "  s.async = true;\n",
       "  s.onreadystatechange = s.onload = callback;\n",
       "  s.onerror = function(){console.warn(\"failed to load library \" + url);};\n",
       "  document.getElementsByTagName(\"head\")[0].appendChild(s);\n",
       "}\n",
       "\n",
       "if(typeof(LDAvis) !== \"undefined\"){\n",
       "   // already loaded: just create the visualization\n",
       "   !function(LDAvis){\n",
       "       new LDAvis(\"#\" + \"ldavis_el480296281451776938714654\", ldavis_el480296281451776938714654_data);\n",
       "   }(LDAvis);\n",
       "}else if(typeof define === \"function\" && define.amd){\n",
       "   // require.js is available: use it to load d3/LDAvis\n",
       "   require.config({paths: {d3: \"https://d3js.org/d3.v5\"}});\n",
       "   require([\"d3\"], function(d3){\n",
       "      window.d3 = d3;\n",
       "      LDAvis_load_lib(\"https://cdn.jsdelivr.net/gh/bmabey/pyLDAvis@3.4.0/pyLDAvis/js/ldavis.v3.0.0.js\", function(){\n",
       "        new LDAvis(\"#\" + \"ldavis_el480296281451776938714654\", ldavis_el480296281451776938714654_data);\n",
       "      });\n",
       "    });\n",
       "}else{\n",
       "    // require.js not available: dynamically load d3 & LDAvis\n",
       "    LDAvis_load_lib(\"https://d3js.org/d3.v5.js\", function(){\n",
       "         LDAvis_load_lib(\"https://cdn.jsdelivr.net/gh/bmabey/pyLDAvis@3.4.0/pyLDAvis/js/ldavis.v3.0.0.js\", function(){\n",
       "                 new LDAvis(\"#\" + \"ldavis_el480296281451776938714654\", ldavis_el480296281451776938714654_data);\n",
       "            })\n",
       "         });\n",
       "}\n",
       "</script>"
      ],
      "text/plain": [
       "PreparedData(topic_coordinates=              x         y  topics  cluster       Freq\n",
       "topic                                                \n",
       "2     -0.147896  0.003325       1        1  39.285156\n",
       "0      0.070839 -0.120250       2        1  31.324422\n",
       "1      0.077058  0.116925       3        1  29.390422, topic_info=        Term          Freq         Total Category  logprob  loglift\n",
       "72   machine  20580.000000  20580.000000  Default  30.0000  30.0000\n",
       "50    washer  18018.000000  18018.000000  Default  29.0000  29.0000\n",
       "68   clothes  12333.000000  12333.000000  Default  28.0000  28.0000\n",
       "34     dryer  11812.000000  11812.000000  Default  27.0000  27.0000\n",
       "125    water  26052.000000  26052.000000  Default  26.0000  26.0000\n",
       "..       ...           ...           ...      ...      ...      ...\n",
       "16      love   4483.871065   7492.049788   Topic3  -5.4800   0.7111\n",
       "145   really   5182.528386  11806.937325   Topic3  -5.3351   0.4011\n",
       "44      much   5291.393820  12989.709065   Topic3  -5.3144   0.3264\n",
       "125    water   6333.421665  26052.937033   Topic3  -5.1346  -0.1898\n",
       "127     also   4626.075621  13898.032284   Topic3  -5.4487   0.1245\n",
       "\n",
       "[253 rows x 6 columns], token_table=      Topic      Freq      Term\n",
       "term                           \n",
       "864       2  0.999133  agitator\n",
       "127       1  0.279608      also\n",
       "127       2  0.387537      also\n",
       "127       3  0.332853      also\n",
       "4828      3  0.998707   ambient\n",
       "...     ...       ...       ...\n",
       "203       3  0.085161      year\n",
       "419       1  0.742944     years\n",
       "419       2  0.221746     years\n",
       "419       3  0.035335     years\n",
       "1142      3  0.999053      zone\n",
       "\n",
       "[442 rows x 3 columns], R=30, lambda_step=0.01, plot_opts={'xlab': 'PC1', 'ylab': 'PC2'}, topic_order=[3, 1, 2])"
      ]
     },
     "execution_count": 29,
     "metadata": {},
     "output_type": "execute_result"
    }
   ],
   "source": [
    "import pyLDAvis\n",
    "import pyLDAvis.gensim_models as gensimvis\n",
    "\n",
    "pyLDAvis.enable_notebook()\n",
    "gensimvis.prepare(lda, corpus, gensim_dict)"
   ]
  }
 ],
 "metadata": {
  "kernelspec": {
   "display_name": "Python 3",
   "language": "python",
   "name": "python3"
  },
  "language_info": {
   "codemirror_mode": {
    "name": "ipython",
    "version": 3
   },
   "file_extension": ".py",
   "mimetype": "text/x-python",
   "name": "python",
   "nbconvert_exporter": "python",
   "pygments_lexer": "ipython3",
   "version": "3.9.13"
  },
  "orig_nbformat": 4,
  "vscode": {
   "interpreter": {
    "hash": "b0fa6594d8f4cbf19f97940f81e996739fb7646882a419484c72d19e05852a7e"
   }
  }
 },
 "nbformat": 4,
 "nbformat_minor": 2
}
